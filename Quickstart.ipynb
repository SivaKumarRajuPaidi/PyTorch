{
  "nbformat": 4,
  "nbformat_minor": 0,
  "metadata": {
    "colab": {
      "provenance": [],
      "authorship_tag": "ABX9TyMkfSax4H4RVJytTp6KKGrf",
      "include_colab_link": true
    },
    "kernelspec": {
      "name": "python3",
      "display_name": "Python 3"
    },
    "language_info": {
      "name": "python"
    }
  },
  "cells": [
    {
      "cell_type": "markdown",
      "metadata": {
        "id": "view-in-github",
        "colab_type": "text"
      },
      "source": [
        "<a href=\"https://colab.research.google.com/github/SivaKumarRajuPaidi/PyTorch/blob/main/Quickstart.ipynb\" target=\"_parent\"><img src=\"https://colab.research.google.com/assets/colab-badge.svg\" alt=\"Open In Colab\"/></a>"
      ]
    },
    {
      "cell_type": "code",
      "execution_count": 1,
      "metadata": {
        "id": "b6ZgVz_PAyew"
      },
      "outputs": [],
      "source": [
        "import torch\n",
        "from torch import nn\n",
        "from torch.utils.data import DataLoader\n",
        "from torchvision import datasets\n",
        "from torchvision.transforms import ToTensor"
      ]
    },
    {
      "cell_type": "code",
      "source": [
        "# Download training data from open datasets\n",
        "training_data = datasets.FashionMNIST(\n",
        "    root = \"data\",\n",
        "    train = True,\n",
        "    download = True,\n",
        "    transform = ToTensor(),\n",
        ")\n",
        "\n",
        "#Download test data from open Dataset\n",
        "test_data = datasets.FashionMNIST(\n",
        "    root = \"data\",\n",
        "    train = False,\n",
        "    download = True,\n",
        "    transform = ToTensor(),\n",
        ")"
      ],
      "metadata": {
        "id": "rMVn5nV7Hi2O"
      },
      "execution_count": 2,
      "outputs": []
    },
    {
      "cell_type": "code",
      "source": [
        "batch_size = 64\n",
        "\n",
        "# Create Data Loaders\n",
        "\n",
        "train_dataloader = DataLoader(dataset = training_data, batch_size = batch_size)\n",
        "test_dataloader = DataLoader(dataset = test_data, batch_size = batch_size)\n",
        "\n",
        "for X, y in test_dataloader:\n",
        "  print(f\"Shape of X[ N, C, H, W ] : {X.shape}  {X.dtype}\")\n",
        "  print(f\"Shape of y: {y.shape}  {y.dtype}\")\n",
        "  break"
      ],
      "metadata": {
        "colab": {
          "base_uri": "https://localhost:8080/"
        },
        "id": "rzTopmpaJYaH",
        "outputId": "d49169ec-c1b9-4564-8efb-56b4c2eadc23"
      },
      "execution_count": 3,
      "outputs": [
        {
          "output_type": "stream",
          "name": "stdout",
          "text": [
            "Shape of X[ N, C, H, W ] : torch.Size([64, 1, 28, 28])  torch.float32\n",
            "Shape of y: torch.Size([64])  torch.int64\n"
          ]
        }
      ]
    },
    {
      "cell_type": "code",
      "source": [
        "print(len(train_dataloader.dataset))\n",
        "print(len(test_dataloader.dataset))\n",
        "print(len(train_dataloader))\n",
        "print(len(test_dataloader))"
      ],
      "metadata": {
        "colab": {
          "base_uri": "https://localhost:8080/"
        },
        "id": "7WyCmTu0Hasq",
        "outputId": "c9219bae-97ec-4186-e745-16c19cee0eaf"
      },
      "execution_count": 4,
      "outputs": [
        {
          "output_type": "stream",
          "name": "stdout",
          "text": [
            "60000\n",
            "10000\n",
            "938\n",
            "157\n"
          ]
        }
      ]
    },
    {
      "cell_type": "code",
      "source": [
        "938*64"
      ],
      "metadata": {
        "colab": {
          "base_uri": "https://localhost:8080/"
        },
        "id": "UFUvgRPfHvuM",
        "outputId": "c2b0b11e-1e9b-46c2-ff8d-da97d5de5853"
      },
      "execution_count": 32,
      "outputs": [
        {
          "output_type": "execute_result",
          "data": {
            "text/plain": [
              "60032"
            ]
          },
          "metadata": {},
          "execution_count": 32
        }
      ]
    },
    {
      "cell_type": "code",
      "source": [
        "# Get CPU, GPU or MPS for training\n",
        "device = (\"cuda\"\n",
        "          if torch.cuda.is_available()\n",
        "          else \"mps\"\n",
        "          if torch.backends.mps.is_available()\n",
        "          else\n",
        "          \"cpu\"\n",
        ")\n",
        "print(f\"Device being used is {device}\")"
      ],
      "metadata": {
        "colab": {
          "base_uri": "https://localhost:8080/"
        },
        "id": "3V1QgYQjKxPj",
        "outputId": "a1d78a95-731d-47c7-c5c4-2a4acc31d124"
      },
      "execution_count": 5,
      "outputs": [
        {
          "output_type": "stream",
          "name": "stdout",
          "text": [
            "Device being used is cpu\n"
          ]
        }
      ]
    },
    {
      "cell_type": "code",
      "source": [
        "# Define Model\n",
        "\n",
        "class NeuralNetwork(nn.Module):\n",
        "    def __init__(self):\n",
        "        super().__init__()\n",
        "        self.flatten = nn.Flatten()\n",
        "        self.linear_relu_stack = nn.Sequential(\n",
        "            nn.Linear(28*28, 512),\n",
        "            nn.ReLU(),\n",
        "            nn.Linear(512, 512),\n",
        "            nn.ReLU(),\n",
        "            nn.Linear(512, 10)\n",
        "        )\n",
        "\n",
        "    def forward(self, x):\n",
        "        x = self.flatten(x)\n",
        "        logits = self.linear_relu_stack(x)\n",
        "        return logits\n",
        "\n",
        "model = NeuralNetwork().to(device)\n",
        "print(model)"
      ],
      "metadata": {
        "colab": {
          "base_uri": "https://localhost:8080/"
        },
        "id": "ljcC4CSWQCq4",
        "outputId": "94723640-744f-4580-c615-1fc31fb36a3c"
      },
      "execution_count": 6,
      "outputs": [
        {
          "output_type": "stream",
          "name": "stdout",
          "text": [
            "NeuralNetwork(\n",
            "  (flatten): Flatten(start_dim=1, end_dim=-1)\n",
            "  (linear_relu_stack): Sequential(\n",
            "    (0): Linear(in_features=784, out_features=512, bias=True)\n",
            "    (1): ReLU()\n",
            "    (2): Linear(in_features=512, out_features=512, bias=True)\n",
            "    (3): ReLU()\n",
            "    (4): Linear(in_features=512, out_features=10, bias=True)\n",
            "  )\n",
            ")\n"
          ]
        }
      ]
    },
    {
      "cell_type": "code",
      "source": [
        "# Get cpu, gpu or mps device for training.\n",
        "device = (\n",
        "    \"cuda\"\n",
        "    if torch.cuda.is_available()\n",
        "    else \"mps\"\n",
        "    if torch.backends.mps.is_available()\n",
        "    else \"cpu\"\n",
        ")\n",
        "print(f\"Using {device} device\")\n",
        "\n",
        "# Define model\n",
        "class NeuralNetwork(nn.Module):\n",
        "    def __init__(self):\n",
        "        super().__init__()\n",
        "        self.flatten = nn.Flatten()\n",
        "        self.linear_relu_stack = nn.Sequential(\n",
        "            nn.Linear(28*28, 512),\n",
        "            nn.ReLU(),\n",
        "            nn.Linear(512, 512),\n",
        "            nn.ReLU(),\n",
        "            nn.Linear(512, 10)\n",
        "        )\n",
        "\n",
        "    def forward(self, x):\n",
        "        x = self.flatten(x)\n",
        "        logits = self.linear_relu_stack(x)\n",
        "        return logits\n",
        "\n",
        "model = NeuralNetwork().to(device)\n",
        "print(model)"
      ],
      "metadata": {
        "colab": {
          "base_uri": "https://localhost:8080/"
        },
        "id": "3o5YMAosR3J0",
        "outputId": "cafbb830-c649-4b59-961a-75d0b94dac81"
      },
      "execution_count": 7,
      "outputs": [
        {
          "output_type": "stream",
          "name": "stdout",
          "text": [
            "Using cpu device\n",
            "NeuralNetwork(\n",
            "  (flatten): Flatten(start_dim=1, end_dim=-1)\n",
            "  (linear_relu_stack): Sequential(\n",
            "    (0): Linear(in_features=784, out_features=512, bias=True)\n",
            "    (1): ReLU()\n",
            "    (2): Linear(in_features=512, out_features=512, bias=True)\n",
            "    (3): ReLU()\n",
            "    (4): Linear(in_features=512, out_features=10, bias=True)\n",
            "  )\n",
            ")\n"
          ]
        }
      ]
    },
    {
      "cell_type": "code",
      "source": [
        "# Optimizing model parameters\n",
        "loss_fn = nn.CrossEntropyLoss()\n",
        "optimizer = torch.optim.SGD(model.parameters(), lr=1e-3)"
      ],
      "metadata": {
        "id": "4CQ4UVI7VLB0"
      },
      "execution_count": 8,
      "outputs": []
    },
    {
      "cell_type": "code",
      "source": [
        "def train(dataloader, model, loss_fn, optimizer):\n",
        "    size = len(dataloader.dataset)\n",
        "    model.train()\n",
        "\n",
        "    for batch, (X, y) in enumerate(dataloader):\n",
        "        X, y = X.to(device), y.to(device)\n",
        "\n",
        "        # Compute prediction error\n",
        "        pred = model(X)\n",
        "        loss = loss_fn(pred, y)\n",
        "\n",
        "\n",
        "        # Backpropogation\n",
        "        loss.backward()\n",
        "        optimizer.step()\n",
        "        optimizer.zero_grad()\n",
        "\n",
        "        if batch % 100 == 0:\n",
        "            loss, current = loss.item(), (batch+1) * len(X)\n",
        "            print(f\"loss : {loss:>7f} [{current:>5d} / {size:>5d}] \")\n",
        "\n"
      ],
      "metadata": {
        "id": "WAOeGP6_V0Eb"
      },
      "execution_count": 9,
      "outputs": []
    },
    {
      "cell_type": "code",
      "source": [
        "def test(dataloader, model, loss_fn):\n",
        "    size = len(dataloader.dataset)\n",
        "    num_batches = len(dataloader)\n",
        "    model.eval()\n",
        "    test_loss, correct = 0, 0\n",
        "    with torch.no_grad():\n",
        "        for X, y in dataloader:\n",
        "            X , y = X.to(device), y.to(device)\n",
        "            pred = model(X)\n",
        "            test_loss += loss_fn(pred, y).item()\n",
        "            correct += (pred.argmax(1) == y).type(torch.float).sum().item()\n",
        "    test_loss /= num_batches\n",
        "    correct /= size\n",
        "    print(f\"Test Error: \\n Accuracy: {(100*correct):>0.1f}%, Avg loss: {test_loss:>8f} \\n\")\n",
        "\n"
      ],
      "metadata": {
        "id": "D_jpxLkAPAI1"
      },
      "execution_count": 10,
      "outputs": []
    },
    {
      "cell_type": "code",
      "source": [
        "epochs = 5\n",
        "for t in range(epochs):\n",
        "    print(f\"Epoch : {t+1}\\n ------------------------------\")\n",
        "    train(train_dataloader,model, loss_fn, optimizer)\n",
        "    test(test_dataloader, model, loss_fn)\n",
        "print(\"Done!\")"
      ],
      "metadata": {
        "colab": {
          "base_uri": "https://localhost:8080/"
        },
        "id": "W3O2NWlLJA6S",
        "outputId": "43580208-a4e6-4fce-ca89-7bdcad9b6f52"
      },
      "execution_count": 11,
      "outputs": [
        {
          "output_type": "stream",
          "name": "stdout",
          "text": [
            "Epoch : 1\n",
            " ------------------------------\n",
            "loss : 2.290810 [   64 / 60000] \n",
            "loss : 2.280527 [ 6464 / 60000] \n",
            "loss : 2.264486 [12864 / 60000] \n",
            "loss : 2.267437 [19264 / 60000] \n",
            "loss : 2.244921 [25664 / 60000] \n",
            "loss : 2.210945 [32064 / 60000] \n",
            "loss : 2.215770 [38464 / 60000] \n",
            "loss : 2.175425 [44864 / 60000] \n",
            "loss : 2.179784 [51264 / 60000] \n",
            "loss : 2.144480 [57664 / 60000] \n",
            "Test Error: \n",
            " Accuracy: 47.7%, Avg loss: 2.139019 \n",
            "\n",
            "Epoch : 2\n",
            " ------------------------------\n",
            "loss : 2.139904 [   64 / 60000] \n",
            "loss : 2.126277 [ 6464 / 60000] \n",
            "loss : 2.070533 [12864 / 60000] \n",
            "loss : 2.105166 [19264 / 60000] \n",
            "loss : 2.029805 [25664 / 60000] \n",
            "loss : 1.965989 [32064 / 60000] \n",
            "loss : 2.001528 [38464 / 60000] \n",
            "loss : 1.904903 [44864 / 60000] \n",
            "loss : 1.928112 [51264 / 60000] \n",
            "loss : 1.857390 [57664 / 60000] \n",
            "Test Error: \n",
            " Accuracy: 54.8%, Avg loss: 1.847095 \n",
            "\n",
            "Epoch : 3\n",
            " ------------------------------\n",
            "loss : 1.868599 [   64 / 60000] \n",
            "loss : 1.833824 [ 6464 / 60000] \n",
            "loss : 1.718919 [12864 / 60000] \n",
            "loss : 1.789274 [19264 / 60000] \n",
            "loss : 1.657769 [25664 / 60000] \n",
            "loss : 1.599631 [32064 / 60000] \n",
            "loss : 1.644202 [38464 / 60000] \n",
            "loss : 1.527603 [44864 / 60000] \n",
            "loss : 1.571637 [51264 / 60000] \n",
            "loss : 1.472249 [57664 / 60000] \n",
            "Test Error: \n",
            " Accuracy: 62.5%, Avg loss: 1.479473 \n",
            "\n",
            "Epoch : 4\n",
            " ------------------------------\n",
            "loss : 1.532872 [   64 / 60000] \n",
            "loss : 1.499014 [ 6464 / 60000] \n",
            "loss : 1.353275 [12864 / 60000] \n",
            "loss : 1.448446 [19264 / 60000] \n",
            "loss : 1.324626 [25664 / 60000] \n",
            "loss : 1.300283 [32064 / 60000] \n",
            "loss : 1.330722 [38464 / 60000] \n",
            "loss : 1.247774 [44864 / 60000] \n",
            "loss : 1.293906 [51264 / 60000] \n",
            "loss : 1.198327 [57664 / 60000] \n",
            "Test Error: \n",
            " Accuracy: 64.3%, Avg loss: 1.216889 \n",
            "\n",
            "Epoch : 5\n",
            " ------------------------------\n",
            "loss : 1.278616 [   64 / 60000] \n",
            "loss : 1.265818 [ 6464 / 60000] \n",
            "loss : 1.104393 [12864 / 60000] \n",
            "loss : 1.226232 [19264 / 60000] \n",
            "loss : 1.105424 [25664 / 60000] \n",
            "loss : 1.105262 [32064 / 60000] \n",
            "loss : 1.137510 [38464 / 60000] \n",
            "loss : 1.075078 [44864 / 60000] \n",
            "loss : 1.122437 [51264 / 60000] \n",
            "loss : 1.040856 [57664 / 60000] \n",
            "Test Error: \n",
            " Accuracy: 65.5%, Avg loss: 1.055352 \n",
            "\n",
            "Done!\n"
          ]
        }
      ]
    },
    {
      "cell_type": "code",
      "source": [],
      "metadata": {
        "id": "Duh3FsSaJA3r"
      },
      "execution_count": null,
      "outputs": []
    },
    {
      "cell_type": "code",
      "source": [],
      "metadata": {
        "id": "tIy0gmW5JA01"
      },
      "execution_count": null,
      "outputs": []
    },
    {
      "cell_type": "code",
      "source": [],
      "metadata": {
        "id": "ENCo2YNqJAxx"
      },
      "execution_count": null,
      "outputs": []
    },
    {
      "cell_type": "code",
      "source": [],
      "metadata": {
        "id": "NWZGgzKCJAu6"
      },
      "execution_count": null,
      "outputs": []
    },
    {
      "cell_type": "code",
      "source": [
        "# Example of target with class indices\n",
        "loss = nn.CrossEntropyLoss()\n",
        "input = torch.randn(3, 5, requires_grad=True)\n",
        "target = torch.empty(3, dtype=torch.long).random_(5)\n",
        "output = loss(input, target)\n",
        "output.backward()\n",
        "print(output)\n",
        "# Example of target with class probabilities\n",
        "input = torch.randn(3, 5, requires_grad=True)\n",
        "target = torch.randn(3, 5).softmax(dim=1)\n",
        "output = loss(input, target)\n",
        "output.backward()"
      ],
      "metadata": {
        "colab": {
          "base_uri": "https://localhost:8080/"
        },
        "id": "-xsJTiVyQSyX",
        "outputId": "6391b307-789f-4632-a4e6-9c740bbe3b61"
      },
      "execution_count": null,
      "outputs": [
        {
          "output_type": "stream",
          "name": "stdout",
          "text": [
            "tensor(2.5475, grad_fn=<NllLossBackward0>)\n"
          ]
        }
      ]
    },
    {
      "cell_type": "code",
      "source": [
        "output.item()"
      ],
      "metadata": {
        "colab": {
          "base_uri": "https://localhost:8080/"
        },
        "id": "dCCjDF5-R8ep",
        "outputId": "27c8cc31-1b34-4140-bc8a-c5b5e826b26e"
      },
      "execution_count": null,
      "outputs": [
        {
          "output_type": "execute_result",
          "data": {
            "text/plain": [
              "2.1411476135253906"
            ]
          },
          "metadata": {},
          "execution_count": 4
        }
      ]
    },
    {
      "cell_type": "code",
      "source": [
        "a = torch.randn(4, 4)\n",
        "print(a)\n"
      ],
      "metadata": {
        "colab": {
          "base_uri": "https://localhost:8080/"
        },
        "id": "oXgOGZLnSBp8",
        "outputId": "edab99e2-424a-42ca-c93a-731c0bc1c88e"
      },
      "execution_count": 13,
      "outputs": [
        {
          "output_type": "stream",
          "name": "stdout",
          "text": [
            "tensor([[-0.2271,  1.6934, -0.0632,  1.5879],\n",
            "        [ 0.6229,  1.0794, -0.4349, -0.3003],\n",
            "        [-1.2225,  1.4618, -0.6772,  0.7042],\n",
            "        [-2.8406, -0.3516, -1.1027,  0.7663]])\n"
          ]
        }
      ]
    },
    {
      "cell_type": "code",
      "source": [
        "print(torch.argmax(a))"
      ],
      "metadata": {
        "colab": {
          "base_uri": "https://localhost:8080/"
        },
        "id": "OAMrs6Y7FZdk",
        "outputId": "02945fcf-b1ca-4b7f-db09-e14602887019"
      },
      "execution_count": 14,
      "outputs": [
        {
          "output_type": "stream",
          "name": "stdout",
          "text": [
            "tensor(1)\n"
          ]
        }
      ]
    },
    {
      "cell_type": "code",
      "source": [
        "a.argmax(1)"
      ],
      "metadata": {
        "colab": {
          "base_uri": "https://localhost:8080/"
        },
        "id": "SUAZlyPmF8CQ",
        "outputId": "07366a2e-fecd-4a35-dbe5-c0f9ffe48cda"
      },
      "execution_count": 17,
      "outputs": [
        {
          "output_type": "execute_result",
          "data": {
            "text/plain": [
              "tensor([1, 1, 1, 3])"
            ]
          },
          "metadata": {},
          "execution_count": 17
        }
      ]
    },
    {
      "cell_type": "code",
      "source": [
        "(a.argmax(1) == torch.tensor([1, 1, 1, 3])).type(torch.float).sum().item()"
      ],
      "metadata": {
        "colab": {
          "base_uri": "https://localhost:8080/"
        },
        "id": "fISGv4bxSmYN",
        "outputId": "525c9aab-d2cb-4663-8ff9-40050b13e738"
      },
      "execution_count": 23,
      "outputs": [
        {
          "output_type": "execute_result",
          "data": {
            "text/plain": [
              "4.0"
            ]
          },
          "metadata": {},
          "execution_count": 23
        }
      ]
    },
    {
      "cell_type": "code",
      "source": [
        "len(train_dataloader)"
      ],
      "metadata": {
        "id": "fRiQbSftSz4G",
        "colab": {
          "base_uri": "https://localhost:8080/"
        },
        "outputId": "cc282230-d774-4e51-b6c3-b591fdacf4a9"
      },
      "execution_count": 27,
      "outputs": [
        {
          "output_type": "execute_result",
          "data": {
            "text/plain": [
              "938"
            ]
          },
          "metadata": {},
          "execution_count": 27
        }
      ]
    },
    {
      "cell_type": "code",
      "source": [
        "len(train_dataloader.dataset)"
      ],
      "metadata": {
        "colab": {
          "base_uri": "https://localhost:8080/"
        },
        "id": "i-DiAkv4HHGK",
        "outputId": "71dd129a-2aa4-4d89-ca78-42925a28c664"
      },
      "execution_count": 30,
      "outputs": [
        {
          "output_type": "execute_result",
          "data": {
            "text/plain": [
              "60000"
            ]
          },
          "metadata": {},
          "execution_count": 30
        }
      ]
    },
    {
      "cell_type": "code",
      "source": [],
      "metadata": {
        "id": "SSMLYWCMHL0j"
      },
      "execution_count": null,
      "outputs": []
    }
  ]
}